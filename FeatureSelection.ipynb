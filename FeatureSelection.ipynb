{
 "cells": [
  {
   "cell_type": "markdown",
   "metadata": {},
   "source": [
    "# Feature Selection using Chi-Square"
   ]
  },
  {
   "cell_type": "code",
   "execution_count": 19,
   "metadata": {},
   "outputs": [],
   "source": [
    "# Options and Hyperparameters\n",
    "n_features = 100"
   ]
  },
  {
   "cell_type": "code",
   "execution_count": 18,
   "metadata": {},
   "outputs": [],
   "source": [
    "# Imports\n",
    "import pandas as pd\n",
    "from sklearn.feature_selection import chi2\n",
    "from scipy.stats import chi2_contingency"
   ]
  },
  {
   "cell_type": "markdown",
   "metadata": {},
   "source": [
    "### Data Description\n",
    "The data is being imported from the Feature Extraction team. The data is 20 text files containing the extracted features (i.e., words) from the 20 newsgroups dataset. The data is in the form of a list of words and their corresponding frequency in the document. Each line has a word and its frequency separated by a space. "
   ]
  },
  {
   "cell_type": "code",
   "execution_count": null,
   "metadata": {},
   "outputs": [],
   "source": [
    "# Load the data\n",
    "newsgroups_list = ['alt.atheism.txt','comp.graphics.txt','comp.os.ms-windows.misc.txt','alt.atheism.txt',\n",
    "                'comp.graphics.txt','comp.os.ms-windows.misc.txt','comp.sys.ibm.pc.hardware.txt',\n",
    "                'comp.sys.mac.hardware.txt','comp.windows.x.txt','misc.forsale.txt','rec.autos.txt',\n",
    "                'rec.motorcycles.txt','rec.sport.baseball.txt','rec.sport.hockey.txt','sci.crypt.txt',\n",
    "                'sci.electronics.txt','sci.med.txt','sci.space.txt','soc.religion.christian.txt',\n",
    "                'talk.politics.guns.txt','talk.politics.mideast.txt','talk.politics.misc.txt',\n",
    "                'talk.religion.misc.txt']\n",
    "\n",
    "data = {}\n",
    "for newsgroup in newsgroups_list:\n",
    "    file_path = f\"BoW/{newsgroup.replace('.txt', '_BoW.txt')}\"\n",
    "    data[newsgroup] = pd.read_csv(file_path, sep=' ', names=['word', 'frequency'])\n"
   ]
  },
  {
   "cell_type": "code",
   "execution_count": null,
   "metadata": {},
   "outputs": [],
   "source": [
    "# Build the word-by-newsgroup matrix\n",
    "word_set = set(word for newsgroup in data for word in data[newsgroup]['word'])\n",
    "word_newsgroup_matrix = pd.DataFrame(index=word_set, columns=newsgroups_list).fillna(0)\n",
    "\n",
    "for newsgroup, df in data.items():\n",
    "    for _, row in df.iterrows():\n",
    "        word_newsgroup_matrix.loc[row['word'], newsgroup] = row['frequency']\n"
   ]
  },
  {
   "cell_type": "code",
   "execution_count": null,
   "metadata": {},
   "outputs": [],
   "source": [
    "# Compute Chi-Squared scores for each word\n",
    "chi2_scores = []\n",
    "for word in word_newsgroup_matrix.index:\n",
    "    observed = word_newsgroup_matrix.loc[word].values\n",
    "    total_counts = word_newsgroup_matrix.sum(axis=0).values\n",
    "    total_word_count = observed.sum()\n",
    "    expected = [(total_word_count * tc) / total_counts.sum() for tc in total_counts]\n",
    "    \n",
    "    chi2, p, _, _ = chi2_contingency([observed, expected])\n",
    "    chi2_scores.append((word, chi2))"
   ]
  },
  {
   "cell_type": "code",
   "execution_count": null,
   "metadata": {},
   "outputs": [],
   "source": [
    "# Rank words by Chi-Squared score and save the top n_features\n",
    "ranked_features = sorted(chi2_scores, key=lambda x: x[1], reverse=True)\n",
    "\n",
    "top_features = [word for word, score in ranked_features[:n_features]]\n",
    "with open(\"top_features.txt\", \"w\") as f:\n",
    "    f.write(\"\\n\".join(top_features))"
   ]
  }
 ],
 "metadata": {
  "kernelspec": {
   "display_name": "myenv",
   "language": "python",
   "name": "python3"
  },
  "language_info": {
   "codemirror_mode": {
    "name": "ipython",
    "version": 3
   },
   "file_extension": ".py",
   "mimetype": "text/x-python",
   "name": "python",
   "nbconvert_exporter": "python",
   "pygments_lexer": "ipython3",
   "version": "3.11.9"
  }
 },
 "nbformat": 4,
 "nbformat_minor": 2
}
